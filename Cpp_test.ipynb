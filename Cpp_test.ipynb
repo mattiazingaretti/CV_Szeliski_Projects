{
  "cells": [
    {
      "cell_type": "code",
      "execution_count": null,
      "metadata": {
        "id": "3fR5WJfbygPo"
      },
      "outputs": [],
      "source": [
        "#This could be a Painless Cpp configuration.\n",
        "# Now the tricky part is to run it on the GPU."
      ]
    },
    {
      "cell_type": "code",
      "execution_count": 2,
      "metadata": {
        "colab": {
          "base_uri": "https://localhost:8080/"
        },
        "id": "cUv_t70m30tq",
        "outputId": "cc943805-1de5-4c94-b0c6-83c5603d6f48"
      },
      "outputs": [
        {
          "name": "stdout",
          "output_type": "stream",
          "text": [
            "Writing hello.cpp\n"
          ]
        }
      ],
      "source": [
        "%%writefile hello.cpp\n",
        "\n",
        "#include<iostream>\n",
        "using namespace std;\n",
        "\n",
        "int main(){\n",
        "  cout << \"hello world!\";\n",
        "  return 0;    \n",
        "}"
      ]
    },
    {
      "cell_type": "code",
      "execution_count": 3,
      "metadata": {
        "colab": {
          "base_uri": "https://localhost:8080/"
        },
        "id": "R_Oko7Ts4GAh",
        "outputId": "eebce94b-1103-4dd5-dc72-6867613363dc"
      },
      "outputs": [
        {
          "name": "stdout",
          "output_type": "stream",
          "text": [
            "hW"
          ]
        }
      ],
      "source": [
        "%%script bash\n",
        "g++ hello.cpp -std=c++11 \n",
        "./a.out"
      ]
    }
  ],
  "metadata": {
    "accelerator": "GPU",
    "colab": {
      "collapsed_sections": [],
      "name": "Cpp_test",
      "provenance": []
    },
    "kernelspec": {
      "display_name": "Python 3",
      "name": "python3"
    },
    "language_info": {
      "name": "python"
    }
  },
  "nbformat": 4,
  "nbformat_minor": 0
}
